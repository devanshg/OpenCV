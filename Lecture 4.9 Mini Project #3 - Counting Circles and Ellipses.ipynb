{
 "cells": [
  {
   "cell_type": "code",
   "execution_count": 1,
   "metadata": {},
   "outputs": [],
   "source": [
    "import cv2\n",
    "import numpy as np"
   ]
  },
  {
   "cell_type": "code",
   "execution_count": 16,
   "metadata": {},
   "outputs": [],
   "source": [
    "# Load image\n",
    "image = cv2.imread('images/blobs.jpg', 0)\n",
    "cv2.imshow('Original Image', image)\n",
    "cv2.waitKey()\n",
    "\n",
    "# Initialise the detector using default parameters\n",
    "detector = cv2.SimpleBlobDetector_create()\n",
    "\n",
    "# Detect blobs\n",
    "keypoints = detector.detect(image)\n",
    "\n",
    "# Draw blobs on our image as red circles\n",
    "blank = np.zeros((1,1))\n",
    "blobs = cv2.drawKeypoints(image, keypoints, blank, (0,0,255), cv2.DRAW_MATCHES_FLAGS_DRAW_RICH_KEYPOINTS)\n",
    "\n",
    "total_blobs = len(keypoints)\n",
    "text = 'Total number of blobs: ' + str(total_blobs)\n",
    "cv2.putText(blobs, text, (20,550), cv2.FONT_HERSHEY_COMPLEX, 1, (100,0,255), 2)\n",
    "\n",
    "# Display Image with blob keypoints\n",
    "cv2.imshow('Blobs using default parameters', blobs)\n",
    "cv2.waitKey()\n",
    "\n",
    "# Set our filtering parameters\n",
    "# Initialize parameter setting \n",
    "params = cv2.SimpleBlobDetector_Params()\n",
    "\n",
    "# Set area filtering parameters\n",
    "params.filterByArea = True\n",
    "params.minArea = 100\n",
    "\n",
    "# Set circularity filtering parameters\n",
    "params.filterByCircularity = True\n",
    "params.minCircularity = 0.9\n",
    "\n",
    "# Set convexity filtering parameters\n",
    "params.filterByConvexity = False\n",
    "params.minConvexity = 0.2\n",
    "\n",
    "# Set inertia filtering parameters\n",
    "params.filterByInertia = True\n",
    "params.minInertiaRatio = 0.01\n",
    "\n",
    "# Create a detector with the parameters\n",
    "detector = cv2.SimpleBlobDetector_create(params)\n",
    "\n",
    "# Detect blobs\n",
    "keypoints = detector.detect(image)\n",
    "\n",
    "# Draw blobs on our image as red circles\n",
    "blank = np.zeros((1,1))\n",
    "blobs = cv2.drawKeypoints(image, keypoints, blank, (0,100,255), cv2.DRAW_MATCHES_FLAGS_DRAW_RICH_KEYPOINTS)\n",
    "\n",
    "total_blobs = len(keypoints)\n",
    "text = 'Number of circular blobs: ' + str(total_blobs)\n",
    "cv2.putText(blobs, text, (20,550), cv2.FONT_HERSHEY_COMPLEX, 1, (0,100,255), 2)\n",
    "\n",
    "# Display Image with blob keypoints\n",
    "cv2.imshow('Filtering Circular Blobs Only', blobs)\n",
    "cv2.waitKey()\n",
    "\n",
    "cv2.destroyAllWindows()"
   ]
  },
  {
   "cell_type": "code",
   "execution_count": null,
   "metadata": {},
   "outputs": [],
   "source": []
  }
 ],
 "metadata": {
  "kernelspec": {
   "display_name": "Python 3",
   "language": "python",
   "name": "python3"
  },
  "language_info": {
   "codemirror_mode": {
    "name": "ipython",
    "version": 3
   },
   "file_extension": ".py",
   "mimetype": "text/x-python",
   "name": "python",
   "nbconvert_exporter": "python",
   "pygments_lexer": "ipython3",
   "version": "3.6.4"
  }
 },
 "nbformat": 4,
 "nbformat_minor": 2
}
