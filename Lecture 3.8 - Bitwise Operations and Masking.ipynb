{
 "cells": [
  {
   "cell_type": "code",
   "execution_count": 1,
   "metadata": {},
   "outputs": [],
   "source": [
    "import cv2\n",
    "import numpy as np"
   ]
  },
  {
   "cell_type": "code",
   "execution_count": 6,
   "metadata": {},
   "outputs": [],
   "source": [
    "# Making a square\n",
    "square = np.zeros((300,300), np.uint8)\n",
    "cv2.rectangle(square, (50,50), (250,250), 255, -2)\n",
    "cv2.imshow('Square', square)\n",
    "cv2.waitKey(0)\n",
    "\n",
    "# Making an ellipse\n",
    "ellipse = np.zeros((300,300), np.uint8)\n",
    "cv2.ellipse(ellipse, (150,150), (150,150), 30, 0, 180, 255, -2)\n",
    "cv2.imshow('Ellipse', ellipse)\n",
    "cv2.waitKey(0)\n",
    "cv2.destroyAllWindows()"
   ]
  },
  {
   "cell_type": "code",
   "execution_count": 8,
   "metadata": {},
   "outputs": [],
   "source": [
    "And = cv2.bitwise_and(square, ellipse)\n",
    "cv2.imshow('AND', And)\n",
    "cv2.waitKey(0)\n",
    "\n",
    "Or = cv2.bitwise_or(square, ellipse)\n",
    "cv2.imshow('Or', Or)\n",
    "cv2.waitKey(0)\n",
    "\n",
    "Xor = cv2.bitwise_xor(square, ellipse)\n",
    "cv2.imshow('Xor', Xor)\n",
    "cv2.waitKey(0)\n",
    "\n",
    "Not = cv2.bitwise_not(square)\n",
    "cv2.imshow('Not - Square', Not)\n",
    "cv2.waitKey(0)\n",
    "\n",
    "\n",
    "cv2.destroyAllWindows()"
   ]
  },
  {
   "cell_type": "code",
   "execution_count": null,
   "metadata": {},
   "outputs": [],
   "source": []
  }
 ],
 "metadata": {
  "kernelspec": {
   "display_name": "Python 3",
   "language": "python",
   "name": "python3"
  },
  "language_info": {
   "codemirror_mode": {
    "name": "ipython",
    "version": 3
   },
   "file_extension": ".py",
   "mimetype": "text/x-python",
   "name": "python",
   "nbconvert_exporter": "python",
   "pygments_lexer": "ipython3",
   "version": "3.6.4"
  }
 },
 "nbformat": 4,
 "nbformat_minor": 2
}
