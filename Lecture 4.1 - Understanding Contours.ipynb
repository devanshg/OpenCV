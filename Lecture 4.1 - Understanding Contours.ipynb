{
 "cells": [
  {
   "cell_type": "code",
   "execution_count": 1,
   "metadata": {},
   "outputs": [],
   "source": [
    "import cv2\n",
    "import numpy as np"
   ]
  },
  {
   "cell_type": "code",
   "execution_count": 5,
   "metadata": {},
   "outputs": [
    {
     "name": "stdout",
     "output_type": "stream",
     "text": [
      "[array([[[368, 157]],\n",
      "\n",
      "       [[367, 158]],\n",
      "\n",
      "       [[366, 159]],\n",
      "\n",
      "       ...,\n",
      "\n",
      "       [[371, 157]],\n",
      "\n",
      "       [[370, 157]],\n",
      "\n",
      "       [[369, 157]]], dtype=int32), array([[[520,  63]],\n",
      "\n",
      "       [[519,  64]],\n",
      "\n",
      "       [[518,  65]],\n",
      "\n",
      "       ...,\n",
      "\n",
      "       [[523,  63]],\n",
      "\n",
      "       [[522,  63]],\n",
      "\n",
      "       [[521,  63]]], dtype=int32), array([[[16, 19]],\n",
      "\n",
      "       [[15, 20]],\n",
      "\n",
      "       [[15, 21]],\n",
      "\n",
      "       ...,\n",
      "\n",
      "       [[19, 19]],\n",
      "\n",
      "       [[18, 19]],\n",
      "\n",
      "       [[17, 19]]], dtype=int32)]\n",
      "Number of Contours found = 3\n"
     ]
    }
   ],
   "source": [
    "# Let's load an image with 3 black squares\n",
    "image = cv2.imread('images/shapes.jpg')\n",
    "cv2.imshow('Input Image', image)\n",
    "cv2.waitKey()\n",
    "\n",
    "# Grayscale\n",
    "gray = cv2.cvtColor(image, cv2.COLOR_BGR2GRAY)\n",
    "\n",
    "# Find Canny Edges\n",
    "edges = cv2.Canny(gray, 30, 200)\n",
    "cv2.imshow('Canny Edges', edges)\n",
    "cv2.waitKey()\n",
    "\n",
    "# Finding Contours\n",
    "# Use a copy of your image eg. edges.copy(), since findContours alters the image\n",
    "_, contours, hierarchy = cv2.findContours(edges, cv2.RETR_EXTERNAL, cv2.CHAIN_APPROX_NONE)\n",
    "cv2.imshow('Canny Edges after Contouring', edges)\n",
    "cv2.waitKey()\n",
    "print(contours)\n",
    "print('Number of Contours found = ' + str(len(contours)))\n",
    "\n",
    "# Draw all contours\n",
    "# Use '-1' as the 3rd parameter to draw all\n",
    "cv2.drawContours(image, contours, -1, (0,255,0), 3)\n",
    "cv2.imshow('Contours', image)\n",
    "cv2.waitKey()\n",
    "\n",
    "cv2.destroyAllWindows()"
   ]
  },
  {
   "cell_type": "code",
   "execution_count": 9,
   "metadata": {},
   "outputs": [
    {
     "name": "stdout",
     "output_type": "stream",
     "text": [
      "Number of Contours found = 8\n"
     ]
    }
   ],
   "source": [
    "# Let's load an image with 3 black squares\n",
    "image = cv2.imread('images/shapes_donut.jpg')\n",
    "cv2.imshow('Input Image', image)\n",
    "cv2.waitKey()\n",
    "\n",
    "# Grayscale\n",
    "gray = cv2.cvtColor(image, cv2.COLOR_BGR2GRAY)\n",
    "\n",
    "# Find Canny Edges\n",
    "edges = cv2.Canny(gray, 30, 200)\n",
    "cv2.imshow('Canny Edges', edges)\n",
    "cv2.waitKey()\n",
    "\n",
    "# Finding Contours\n",
    "# Use a copy of your image eg. edges.copy(), since findContours alters the image\n",
    "_, contours, hierarchy = cv2.findContours(edges, cv2.RETR_LIST, cv2.CHAIN_APPROX_NONE)\n",
    "cv2.imshow('Canny Edges after Contouring', edges)\n",
    "cv2.waitKey()\n",
    "print('Number of Contours found = ' + str(len(contours)))\n",
    "\n",
    "# Draw all contours\n",
    "# Use '-1' as the 3rd parameter to draw all\n",
    "cv2.drawContours(image, contours, -1, (0,255,0), 3)\n",
    "cv2.imshow('Contours', image)\n",
    "cv2.waitKey()\n",
    "\n",
    "cv2.destroyAllWindows()"
   ]
  },
  {
   "cell_type": "code",
   "execution_count": null,
   "metadata": {},
   "outputs": [],
   "source": []
  }
 ],
 "metadata": {
  "kernelspec": {
   "display_name": "Python 3",
   "language": "python",
   "name": "python3"
  },
  "language_info": {
   "codemirror_mode": {
    "name": "ipython",
    "version": 3
   },
   "file_extension": ".py",
   "mimetype": "text/x-python",
   "name": "python",
   "nbconvert_exporter": "python",
   "pygments_lexer": "ipython3",
   "version": "3.6.4"
  }
 },
 "nbformat": 4,
 "nbformat_minor": 2
}
