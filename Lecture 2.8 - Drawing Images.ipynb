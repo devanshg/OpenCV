{
 "cells": [
  {
   "cell_type": "code",
   "execution_count": 8,
   "metadata": {},
   "outputs": [],
   "source": [
    "import cv2\n",
    "import numpy as np"
   ]
  },
  {
   "cell_type": "code",
   "execution_count": 9,
   "metadata": {},
   "outputs": [],
   "source": [
    "#let's start by creating a black square image\n",
    "image = np.zeros((512,512), np.uint8)\n",
    "\n",
    "#can we make this in black and white?\n",
    "image_bw = np.zeros((512,512), np.uint8)\n",
    "cv2.imshow('Black Rectangle (Color)', image)\n",
    "cv2.imshow('Black Rectangle (B&W)', image_bw)\n",
    "\n",
    "cv2.waitKey(0)\n",
    "cv2.destroyAllWindows()"
   ]
  },
  {
   "cell_type": "code",
   "execution_count": 10,
   "metadata": {},
   "outputs": [],
   "source": [
    "#draw a diagonal blue line of 5px thickness\n",
    "image = np.zeros((512,512,3), np.uint8)\n",
    "cv2.line(image, (0,0), (511,511), (255,0,0), 5)\n",
    "cv2.imshow('Blue line', image)\n",
    "\n",
    "cv2.waitKey(0)\n",
    "cv2.destroyAllWindows()"
   ]
  },
  {
   "cell_type": "code",
   "execution_count": 12,
   "metadata": {},
   "outputs": [],
   "source": [
    "#let's draw a rectangle\n",
    "image = np.zeros((512,512,3), np.uint8)\n",
    "cv2.rectangle(image, (100,100), (300,250), (127,5,127), 5)\n",
    "cv2.imshow('Rectangle', image)\n",
    "\n",
    "cv2.waitKey(0)\n",
    "cv2.destroyAllWindows()"
   ]
  },
  {
   "cell_type": "code",
   "execution_count": 14,
   "metadata": {},
   "outputs": [],
   "source": [
    "#circle\n",
    "image = np.zeros((512,512,3), np.uint8)\n",
    "cv2.circle(image, (200,200), 100, (15,75,50), -1)\n",
    "cv2.imshow('Circle', image)\n",
    "\n",
    "cv2.waitKey(0)\n",
    "cv2.destroyAllWindows()"
   ]
  },
  {
   "cell_type": "code",
   "execution_count": 15,
   "metadata": {},
   "outputs": [],
   "source": [
    "#polygons\n",
    "image = np.zeros((512,512,3), np.uint8)\n",
    "\n",
    "#let's define our points\n",
    "pts = np.array([[10,50], [400,50], [90,200], [50,500]], np.int32)\n",
    "\n",
    "#let's now reshape the points in form required by polylines\n",
    "pts = pts.reshape((-1,1,2))\n",
    "\n",
    "cv2.polylines(image, [pts], True, (0,0,255), 2)\n",
    "cv2.imshow('Polygon', image)\n",
    "\n",
    "cv2.waitKey(0)\n",
    "cv2.destroyAllWindows()"
   ]
  },
  {
   "cell_type": "code",
   "execution_count": 19,
   "metadata": {},
   "outputs": [],
   "source": [
    "#text\n",
    "image = np.zeros((512,512,3), np.uint8)\n",
    "cv2.putText(image, 'Hello World', (50, 200), cv2.FONT_HERSHEY_COMPLEX, 2, (100,170,0),3)\n",
    "cv2.imshow('Font', image)\n",
    "\n",
    "cv2.waitKey(0)\n",
    "cv2.destroyAllWindows()"
   ]
  },
  {
   "cell_type": "code",
   "execution_count": null,
   "metadata": {},
   "outputs": [],
   "source": []
  }
 ],
 "metadata": {
  "kernelspec": {
   "display_name": "Python 3",
   "language": "python",
   "name": "python3"
  },
  "language_info": {
   "codemirror_mode": {
    "name": "ipython",
    "version": 3
   },
   "file_extension": ".py",
   "mimetype": "text/x-python",
   "name": "python",
   "nbconvert_exporter": "python",
   "pygments_lexer": "ipython3",
   "version": "3.6.4"
  }
 },
 "nbformat": 4,
 "nbformat_minor": 2
}
