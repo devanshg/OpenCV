{
 "cells": [
  {
   "cell_type": "code",
   "execution_count": 28,
   "metadata": {},
   "outputs": [],
   "source": [
    "import cv2\n",
    "import numpy as np"
   ]
  },
  {
   "cell_type": "code",
   "execution_count": 29,
   "metadata": {},
   "outputs": [
    {
     "name": "stdout",
     "output_type": "stream",
     "text": [
      "Number of Contours found = 4\n"
     ]
    }
   ],
   "source": [
    "# Let's load an image with 3 black squares\n",
    "image = cv2.imread('images/bunchofshapes.jpg')\n",
    "cv2.imshow('0- Original Image', image)\n",
    "cv2.waitKey()\n",
    "\n",
    "# Create a black image with the same dimensions as our loaded image\n",
    "blank_image = np.zeros((image.shape[0], image.shape[1], 3))\n",
    "\n",
    "# Create a copy of our original image\n",
    "original_image = image\n",
    "\n",
    "# Grayscale\n",
    "gray = cv2.cvtColor(image, cv2.COLOR_BGR2GRAY)\n",
    "\n",
    "# Find Canny Edges\n",
    "edges = cv2.Canny(gray, 50, 200)\n",
    "cv2.imshow('1- Canny Edges', edges)\n",
    "cv2.waitKey()\n",
    "\n",
    "# Finding Contours\n",
    "# Use a copy of your image eg. edges.copy(), since findContours alters the image\n",
    "_, contours, hierarchy = cv2.findContours(edges.copy(), cv2.RETR_EXTERNAL, cv2.CHAIN_APPROX_NONE)\n",
    "print('Number of Contours found = ' + str(len(contours)))\n",
    "\n",
    "# Draw all contours\n",
    "# Use '-1' as the 3rd parameter to draw all\n",
    "cv2.drawContours(blank_image, contours, -1, (0,255,0), 3)\n",
    "cv2.imshow('2- All Contours over blank image', blank_image)\n",
    "cv2.waitKey()\n",
    "\n",
    "# Draw all contours over blank image\n",
    "cv2.drawContours(image, contours, -1, (0,255,0), 3)\n",
    "cv2.imshow('3- All Contours', image)\n",
    "cv2.waitKey()\n",
    "\n",
    "cv2.destroyAllWindows()"
   ]
  },
  {
   "cell_type": "code",
   "execution_count": 30,
   "metadata": {},
   "outputs": [
    {
     "name": "stdout",
     "output_type": "stream",
     "text": [
      "Contours before sorting: [20587.5, 22900.5, 66581.5, 90222.0]\n",
      "Contours after sorting: [90222.0, 66581.5, 22900.5, 20587.5]\n"
     ]
    }
   ],
   "source": [
    "# Function we'll use to display our contour area\n",
    "\n",
    "def get_contour_areas(contours):\n",
    "    # returns the areas of all contours as list\n",
    "    all_areas = []\n",
    "    for cnt in contours:\n",
    "        area = cv2.contourArea(cnt)\n",
    "        all_areas.append(area)\n",
    "    return all_areas\n",
    "\n",
    "# Load our image\n",
    "image = cv2.imread('images/bunchofshapes.jpg')\n",
    "original_image = image\n",
    "\n",
    "# Let's print the contour areas before sorting\n",
    "print('Contours before sorting: ' + str(get_contour_areas(contours)))\n",
    "\n",
    "# Sorted contours large to small\n",
    "sorted_contours = sorted(contours, key=cv2.contourArea, reverse=True)\n",
    "print('Contours after sorting: ' + str(get_contour_areas(sorted_contours)))\n",
    "\n",
    "# Iterate over the contours and draw one at a time\n",
    "for c in sorted_contours:\n",
    "    cv2.drawContours(original_image, [c], -1, (255,0,0), 3)\n",
    "    cv2.waitKey()\n",
    "    cv2.imshow('Contours by Area', original_image)\n",
    "\n",
    "cv2.waitKey()\n",
    "cv2.destroyAllWindows()"
   ]
  },
  {
   "cell_type": "code",
   "execution_count": 32,
   "metadata": {},
   "outputs": [
    {
     "name": "stdout",
     "output_type": "stream",
     "text": [
      "output_shape_number_1.jpg\n",
      "output_shape_number_2.jpg\n",
      "output_shape_number_3.jpg\n",
      "output_shape_number_4.jpg\n"
     ]
    }
   ],
   "source": [
    "import cv2\n",
    "import numpy as np\n",
    "\n",
    "# Functions we'll use for sorting by position\n",
    "\n",
    "def x_cord_contour(contours):\n",
    "    #Returns the X cordinate for the contour centroid\n",
    "    if cv2.contourArea(contours) > 10:\n",
    "        M = cv2.moments(contours)\n",
    "        return (int(M['m10']/M['m00']))\n",
    "\n",
    "    \n",
    "def label_contour_center(image, c):\n",
    "    # Places a red circle on the centers of contours\n",
    "    M = cv2.moments(c)\n",
    "    cx = int(M['m10'] / M['m00'])\n",
    "    cy = int(M['m01'] / M['m00'])\n",
    " \n",
    "    # Draw the countour number on the image\n",
    "    cv2.circle(image,(cx,cy), 10, (0,0,255), -1)\n",
    "    return image\n",
    "\n",
    "\n",
    "# Load our image\n",
    "image = cv2.imread('images/bunchofshapes.jpg')\n",
    "orginal_image = image.copy()\n",
    "\n",
    "\n",
    "# Computer Center of Mass or centroids and draw them on our image\n",
    "for (i, c) in enumerate(contours):\n",
    "    orig = label_contour_center(image, c)\n",
    " \n",
    "cv2.imshow(\"4 - Contour Centers \", image)\n",
    "cv2.waitKey(0)\n",
    "\n",
    "# Sort by left to right using our x_cord_contour function\n",
    "contours_left_to_right = sorted(contours, key = x_cord_contour, reverse = False)\n",
    "\n",
    "\n",
    "# Labeling Contours left to right\n",
    "for (i,c)  in enumerate(contours_left_to_right):\n",
    "    cv2.drawContours(orginal_image, [c], -1, (0,0,255), 3)  \n",
    "    M = cv2.moments(c)\n",
    "    cx = int(M['m10'] / M['m00'])\n",
    "    cy = int(M['m01'] / M['m00'])\n",
    "    cv2.putText(orginal_image, str(i+1), (cx, cy), cv2.FONT_HERSHEY_SIMPLEX, 1, (0, 255, 0), 2)\n",
    "    cv2.imshow('6 - Left to Right Contour', orginal_image)\n",
    "    cv2.waitKey(0)\n",
    "    (x, y, w, h) = cv2.boundingRect(c)  \n",
    "    \n",
    "    # Let's now crop each contour and save these images\n",
    "    cropped_contour = orginal_image[y:y + h, x:x + w]\n",
    "    image_name = \"output_shape_number_\" + str(i+1) + \".jpg\"\n",
    "    print (image_name)\n",
    "    cv2.imwrite(image_name, cropped_contour)\n",
    "    \n",
    "cv2.destroyAllWindows()\n",
    "\n",
    "\n"
   ]
  },
  {
   "cell_type": "code",
   "execution_count": 25,
   "metadata": {},
   "outputs": [],
   "source": []
  },
  {
   "cell_type": "code",
   "execution_count": null,
   "metadata": {},
   "outputs": [],
   "source": []
  }
 ],
 "metadata": {
  "kernelspec": {
   "display_name": "Python 3",
   "language": "python",
   "name": "python3"
  },
  "language_info": {
   "codemirror_mode": {
    "name": "ipython",
    "version": 3
   },
   "file_extension": ".py",
   "mimetype": "text/x-python",
   "name": "python",
   "nbconvert_exporter": "python",
   "pygments_lexer": "ipython3",
   "version": "3.6.4"
  }
 },
 "nbformat": 4,
 "nbformat_minor": 2
}
