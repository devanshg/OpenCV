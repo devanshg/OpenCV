{
 "cells": [
  {
   "cell_type": "code",
   "execution_count": 1,
   "metadata": {},
   "outputs": [],
   "source": [
    "import cv2\n",
    "import numpy as np\n",
    "import matplotlib.pyplot as plt\n",
    "%matplotlib inline"
   ]
  },
  {
   "cell_type": "code",
   "execution_count": 2,
   "metadata": {},
   "outputs": [],
   "source": [
    "image = cv2.imread('images/scan.jpg')\n",
    "\n",
    "cv2.imshow('Original', image)\n",
    "cv2.waitKey()\n",
    "\n",
    "# Coordinates of 4 corners of the original image\n",
    "points_A = np.float32([[320,15],[700,215],[85,610],[530,780]])\n",
    "\n",
    "# Coordinates of 4 corners of the desired output\n",
    "# We use a ratio of A4 paper 1 : 1.41\n",
    "points_B = np.float32([[0,0],[420,0],[0,594],[420,594]])\n",
    "\n",
    "# Use 2 sets of four points to compute\n",
    "# the perspective transformation matrix M\n",
    "M = cv2.getPerspectiveTransform(points_A,points_B)\n",
    "\n",
    "warped = cv2.warpPerspective(image, M, (420,594))\n",
    "\n",
    "cv2.imshow('WarpPerspective', warped)\n",
    "cv2.waitKey()\n",
    "\n",
    "cv2.destroyAllWindows()"
   ]
  },
  {
   "cell_type": "markdown",
   "metadata": {},
   "source": [
    "### In affine transformations we need only 3 coordinates"
   ]
  },
  {
   "cell_type": "code",
   "execution_count": 3,
   "metadata": {},
   "outputs": [],
   "source": [
    "image = cv2.imread('images/ex2.jpg')\n",
    "rows, cols, ch = image.shape\n",
    "\n",
    "cv2.imshow('Original', image)\n",
    "cv2.waitKey()\n",
    "\n",
    "# Coordinates of 4 corners of the original image\n",
    "points_A = np.float32([[320,15],[700,215],[85,610]])\n",
    "\n",
    "# Coordinates of 4 corners of the desired output\n",
    "# We use a ratio of A4 paper 1 : 1.41\n",
    "points_B = np.float32([[0,0],[420,0],[0,594]])\n",
    "\n",
    "# Use 2 sets of four points to compute\n",
    "# the perspective transformation matrix M\n",
    "M = cv2.getAffineTransform(points_A,points_B)\n",
    "\n",
    "warped = cv2.warpAffine(image, M, (cols, rows))\n",
    "\n",
    "cv2.imshow('WarpPerspective', warped)\n",
    "cv2.waitKey()\n",
    "\n",
    "cv2.destroyAllWindows()"
   ]
  },
  {
   "cell_type": "code",
   "execution_count": null,
   "metadata": {},
   "outputs": [],
   "source": []
  }
 ],
 "metadata": {
  "kernelspec": {
   "display_name": "Python 3",
   "language": "python",
   "name": "python3"
  },
  "language_info": {
   "codemirror_mode": {
    "name": "ipython",
    "version": 3
   },
   "file_extension": ".py",
   "mimetype": "text/x-python",
   "name": "python",
   "nbconvert_exporter": "python",
   "pygments_lexer": "ipython3",
   "version": "3.6.4"
  }
 },
 "nbformat": 4,
 "nbformat_minor": 2
}
